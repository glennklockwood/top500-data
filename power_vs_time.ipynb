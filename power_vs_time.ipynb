{
 "cells": [
  {
   "cell_type": "code",
   "execution_count": null,
   "metadata": {},
   "outputs": [],
   "source": [
    "%matplotlib inline"
   ]
  },
  {
   "cell_type": "code",
   "execution_count": null,
   "metadata": {},
   "outputs": [],
   "source": [
    "import glob\n",
    "import warnings\n",
    "\n",
    "import pandas\n",
    "import matplotlib"
   ]
  },
  {
   "cell_type": "code",
   "execution_count": null,
   "metadata": {},
   "outputs": [],
   "source": [
    "files = glob.glob(\"*.xls*\")"
   ]
  },
  {
   "cell_type": "code",
   "execution_count": null,
   "metadata": {},
   "outputs": [],
   "source": [
    "dates = []\n",
    "powers = []\n",
    "counts = []\n",
    "for file in files:\n",
    "    df = pandas.read_excel(file)\n",
    "    power_key = \"Power (kW)\" if \"Power (kW)\" in df.columns else \"Power\"\n",
    "    if power_key in df.columns:\n",
    "        date = file.split('_', 1)[-1].split('.', 1)[0]\n",
    "        filt = df[power_key] > 0.0\n",
    "        filt &= df['Rank'] <= 10\n",
    "        mean_pwr = df[filt][power_key].mean()\n",
    "        dates.append(date)\n",
    "        powers.append(mean_pwr)\n",
    "        counts.append(df[filt][power_key].count())\n",
    "    else:\n",
    "        warnings.warn(\"No power column in %s\" % file)"
   ]
  },
  {
   "cell_type": "code",
   "execution_count": null,
   "metadata": {},
   "outputs": [],
   "source": [
    "df = pandas.DataFrame(data={\"power\": powers, \"count\": counts}, index=dates).sort_index()\n",
    "df"
   ]
  },
  {
   "cell_type": "code",
   "execution_count": null,
   "metadata": {},
   "outputs": [],
   "source": [
    "fig, ax = matplotlib.pyplot.subplots()\n",
    "(df['power'] / 1000).plot.bar(ax=ax, width=0.9, edgecolor='black')\n",
    "ax.set_xticklabels([x.get_text()[:4] if x.get_text().endswith(\"6\") else \"\" for i, x in enumerate(ax.get_xticklabels())],\n",
    "                  ha='right', rotation=45)\n",
    "ax.yaxis.grid()\n",
    "ax.set_axisbelow(True)\n",
    "ax.set_ylabel(\"Power (MW)\")\n",
    "ax.set_title(\"Mean Power of Top 10 Systems\")"
   ]
  },
  {
   "cell_type": "code",
   "execution_count": null,
   "metadata": {},
   "outputs": [],
   "source": []
  }
 ],
 "metadata": {
  "kernelspec": {
   "display_name": "Python 3",
   "language": "python",
   "name": "python3"
  },
  "language_info": {
   "codemirror_mode": {
    "name": "ipython",
    "version": 3
   },
   "file_extension": ".py",
   "mimetype": "text/x-python",
   "name": "python",
   "nbconvert_exporter": "python",
   "pygments_lexer": "ipython3",
   "version": "3.7.3"
  }
 },
 "nbformat": 4,
 "nbformat_minor": 4
}
